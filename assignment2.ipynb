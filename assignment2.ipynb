{
 "cells": [
  {
   "cell_type": "code",
   "execution_count": 63,
   "id": "098b2971-5d7a-4d7f-aec2-3400a31a72b0",
   "metadata": {},
   "outputs": [],
   "source": [
    "#Think I'm going to start with a boosted model. Might overfit, but Dusty said that it was good with \"toy data\"\n",
    "\n",
    "import pandas as pd\n",
    "import numpy as np\n",
    "from sklearn.model_selection import train_test_split\n",
    "from sklearn.metrics import accuracy_score\n",
    "from xgboost import XGBClassifier\n",
    "\n",
    "data = pd.read_csv(\"https://github.com/dustywhite7/Econ8310/raw/master/AssignmentData/assignment3.csv\")\n",
    "\n",
    "\n"
   ]
  },
  {
   "cell_type": "code",
   "execution_count": 8,
   "id": "9f4325b8",
   "metadata": {},
   "outputs": [
    {
     "name": "stdout",
     "output_type": "stream",
     "text": [
      "Index(['id', 'DateTime', 'Total', 'Discounts', 'Brewed_Coffee_12_oz',\n",
      "       'Brewed_Coffee_16_oz', 'Aquafina_Water', 'Muffin_Pastry_Case',\n",
      "       'Extra_Syrup', 'Bottled_Soda_Mt_Dew', 'Bottled_Soda_Diet_Pepsi',\n",
      "       'Latte_16_oz', 'Latte_12_oz', 'Original', 'String_Cheese',\n",
      "       'Soda_Fountain_24_oz', 'Starbucks_DS_Vanilla',\n",
      "       'Bottled_Soda_Wild_Cherry', 'Gatorade_Glacier_Freeze',\n",
      "       'TeaSmith_Tea_16_oz', 'Iced', 'Bottled_Soda_Diet_Mt_Dew',\n",
      "       'Candy_Snickers', 'Tea_Unsweetened', 'Bottled_Soda_Code_Red',\n",
      "       'Chips_Kettle_Jalapeo', 'Chex_Mix_Traditional', 'Rockstar_Zero_Punched',\n",
      "       'Ocean_Spray_Apple', 'Americano_16_oz', 'TeaSmith_Tea_12_oz',\n",
      "       'Tea_Half_and_Half', 'Chips_Kettle_Sea_Salt', 'Mocha_16_oz',\n",
      "       'Nuts_Cashews', 'Chips_Kettle_BBQ', 'Tea_Sweetened', 'Gatorade_Orange',\n",
      "       'Chex_Mix_Cheddar', 'Candy_KitKat', 'Parfait_Strawberry',\n",
      "       'Gatorade_Cool_Blue', 'Cheez_It_Original', 'Bottled_Soda_Pepsi',\n",
      "       'Nuts_Hot_n_Spicy_Peanuts', 'Candy_Peanut_Butter_MM's',\n",
      "       'Ocean_Spray_Orange', 'Kickstart_Raspberry', 'Kickstart_Orange',\n",
      "       'Candy_Reeses', 'Extra_Espresso',\n",
      "       'Clif_Bar_White_Chocolate_Macadamia_Nut', 'Candy_Twix',\n",
      "       'Western's_Jerky_Beef', 'Pringles_Original', 'Nuts_Salted_Peanuts',\n",
      "       'Pringles_Sour_Cream_Onion', 'Chocolate_Muscle_Milk',\n",
      "       'Kickstart_Pineapple_Orange_Mango', 'MM', 'Turtle_16_oz',\n",
      "       'Kickstart_Grape', 'Parfait_Blueberry', 'Moroccan_Mint',\n",
      "       'SoBe_Life_Acai', 'White_Mocha_16_oz', 'Gum_Spearmint',\n",
      "       'Kickstart_Mango_Lime', 'Clif_Bar_Brownie_Bar',\n",
      "       'Cheez_It_White_Cheddar', 'Starbucks_Mocha_Frap',\n",
      "       'Gatorade_Fruit_Punch', 'Hot_Chocolate_12_oz', 'Cup',\n",
      "       'Sweet_Pomegranate', 'Gatorade_Grape', 'White_Mocha_12_oz',\n",
      "       'Whipped_Topping', 'Starbucks_DS_Mocha', 'Hot_Chocolate_16_oz',\n",
      "       'Dr_Pepper', 'Ocean_Spray_CranGrape', 'Gum_Peppermint', 'meal'],\n",
      "      dtype='object')\n"
     ]
    }
   ],
   "source": [
    "#print(data.head())\n",
    "print(data.columns)"
   ]
  },
  {
   "cell_type": "code",
   "execution_count": 97,
   "id": "e5887373",
   "metadata": {},
   "outputs": [
    {
     "name": "stdout",
     "output_type": "stream",
     "text": [
      "89.60000000000001\n"
     ]
    }
   ],
   "source": [
    "\n",
    "Y = data['meal']\n",
    "# make sure you drop a column with the axis=1 argument\n",
    "columns_to_drop = ['id', 'DateTime', 'meal']\n",
    "X = data.drop(columns=columns_to_drop, axis=1)\n",
    "\n",
    "\n",
    "\n",
    "x, xt, y, yt = train_test_split(X, Y, test_size=1000/ len(data)) \n",
    "\n",
    "model = XGBClassifier(n_estimators=1000, max_depth=10, learning_rate=0.2, objective='binary:logistic')\n",
    "\n",
    "y = y.to_frame()\n",
    "\n",
    "modelFit = model.fit(x, y)\n",
    "\n",
    "pred1 = modelFit.predict(xt)\n",
    "pred = pred1.flatten().tolist()\n",
    "#not workng rn bc length is not 1000\n",
    "\n",
    "print(accuracy_score(yt, pred)*100)\n",
    "\n"
   ]
  },
  {
   "cell_type": "code",
   "execution_count": 96,
   "id": "73b445d4",
   "metadata": {},
   "outputs": [
    {
     "data": {
      "text/plain": [
       "1000"
      ]
     },
     "execution_count": 96,
     "metadata": {},
     "output_type": "execute_result"
    }
   ],
   "source": [
    "len(pred)"
   ]
  }
 ],
 "metadata": {
  "kernelspec": {
   "display_name": "base",
   "language": "python",
   "name": "python3"
  },
  "language_info": {
   "codemirror_mode": {
    "name": "ipython",
    "version": 3
   },
   "file_extension": ".py",
   "mimetype": "text/x-python",
   "name": "python",
   "nbconvert_exporter": "python",
   "pygments_lexer": "ipython3",
   "version": "3.12.7"
  }
 },
 "nbformat": 4,
 "nbformat_minor": 5
}
